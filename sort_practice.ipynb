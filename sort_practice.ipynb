{
 "cells": [
  {
   "cell_type": "code",
   "execution_count": 2,
   "metadata": {},
   "outputs": [
    {
     "name": "stdout",
     "output_type": "stream",
     "text": [
      "[0, 1, 2, 3, 4, 5, 6, 7, 8, 9]\n"
     ]
    }
   ],
   "source": [
    "array = [7,5,9,0,3,1,6,2,4,8]\n",
    "\n",
    "for i in range(len(array)):\n",
    "    min_index = i # 가장 작은 원소의 인덱스\n",
    "    for j in range(i + 1, len(array)):\n",
    "        if array[min_index] > array[j]:\n",
    "            min_index = j\n",
    "    \n",
    "    array[i], array[min_index] = array[min_index], array[i] # swap\n",
    "\n",
    "print(array)"
   ]
  },
  {
   "cell_type": "code",
   "execution_count": 3,
   "metadata": {},
   "outputs": [
    {
     "name": "stdout",
     "output_type": "stream",
     "text": [
      "[0, 1, 2, 3, 4, 5, 6, 7, 8, 9]\n"
     ]
    }
   ],
   "source": [
    "array = [7,5,9,0,3,1,6,2,4,8]\n",
    "\n",
    "for i in range(1, len(array)): # 두번째 인덱스부터 시작\n",
    "    for j in range(i, 0, -1): # 인덱스 i부터 앞쪽으로 이동하면서 비교\n",
    "        if array[j - 1] > array[j]: # 한 칸씩 왼쪽으로 이동\n",
    "            array[j], array[j - 1] = array[j - 1], array[j] # swap\n",
    "        else: # 자기보다 작은 데이터를 만나면 그 자리에서 멈춤\n",
    "            break\n",
    "    \n",
    "\n",
    "print(array)"
   ]
  },
  {
   "cell_type": "code",
   "execution_count": 4,
   "metadata": {},
   "outputs": [
    {
     "name": "stdout",
     "output_type": "stream",
     "text": [
      "[0, 1, 2, 3, 4, 5, 6, 7, 8, 9]\n"
     ]
    }
   ],
   "source": [
    "def quick_sort(array, start, end):\n",
    "    if start >= end: # 원소가 1개인 경우, 입력이 잘못 주어진 경우 종료\n",
    "        return\n",
    "    pivot = start # 피벗은 첫 번째 원소\n",
    "    left = start + 1\n",
    "    right = end # left는 가장 왼쪽, right는 가장 오른쪽에 배치\n",
    "    while left <= right: \n",
    "        # 피벗보다 큰 데이터를 찾을 때까지 반복, 찾으면 stop\n",
    "        while left <= end and array[left] <= array[pivot]:\n",
    "            left += 1\n",
    "        # 피벗보다 작은 데이터를 찾을 때까지 반복, 찾으면 stop\n",
    "        while right > start and array[right] >= array[pivot]:\n",
    "            right -= 1\n",
    "        \n",
    "        if left > right : # 엇갈렸다면 작은 데이터와 피벗을 교체\n",
    "            array[right], array[pivot] = array[pivot], array[right]\n",
    "        else: # 엇갈리지 않았다면 작은 데이터와 큰 데이터를 교체\n",
    "            array[left], array[right] = array[right], array[left]\n",
    "    # 분할 이후 왼쪽 부분과 오른쪽 부분에서 각각 정렬 수행\n",
    "    quick_sort(array, start, right - 1)\n",
    "    quick_sort(array, right + 1, end)\n",
    "\n",
    "quick_sort(array, 0, len(array) - 1)        \n",
    "\n",
    "print(array)"
   ]
  },
  {
   "cell_type": "code",
   "execution_count": 6,
   "metadata": {},
   "outputs": [
    {
     "name": "stdout",
     "output_type": "stream",
     "text": [
      "[0, 1, 2, 3, 4, 5, 6, 7, 8, 9]\n"
     ]
    }
   ],
   "source": [
    "array = [7,5,9,0,3,1,6,2,4,8]\n",
    "\n",
    "def quick_sort(array):\n",
    "    if len(array) <= 1: # 원소가 1개인 경우 종료\n",
    "        return array\n",
    "    \n",
    "    pivot = array[0] # 피벗은 첫 번째 원소\n",
    "    tail = array[1:] # 피벗을 제외한 나머지 부분\n",
    "\n",
    "    left_side = [x for x in tail if x <= pivot] # pivot보다 작으면 left_side라는 리스트에 들어간다.\n",
    "    right_side = [x for x in tail if x > pivot] # pivot보다 크면 right_side에 삽입\n",
    "\n",
    "    return quick_sort(left_side) + [pivot] + quick_sort(right_side)\n",
    "\n",
    "\n",
    "\n",
    "print(quick_sort(array))"
   ]
  },
  {
   "cell_type": "code",
   "execution_count": 7,
   "metadata": {},
   "outputs": [
    {
     "name": "stdout",
     "output_type": "stream",
     "text": [
      "0 0 1 1 2 2 3 3 4 4 5 5 5 6 7 8 8 9 9 "
     ]
    }
   ],
   "source": [
    "array = [7, 5, 9, 0, 3, 1, 6, 2, 9, 1, 4, 8, 0, 5, 2, 3, 5, 4, 8]\n",
    "\n",
    "count = [0] * (max(array) + 1)\n",
    "\n",
    "for i in range(len(array)):\n",
    "    count[array[i]] += 1 # 각 데이터에 해당하는 인덱스의 값 증가\n",
    "\n",
    "for i in range(len(count)): # 리스트에 기록된 정렬 정보 확인\n",
    "    for j in range(count[i]):\n",
    "        print(i, end=' ') # 띄어쓰기를 구분으로 등장한 횟수만큼 인덱스 출력"
   ]
  },
  {
   "cell_type": "code",
   "execution_count": 10,
   "metadata": {},
   "outputs": [
    {
     "name": "stdout",
     "output_type": "stream",
     "text": [
      "[0, 1, 2, 3, 4, 5, 6, 7, 8, 9]\n",
      "[0, 1, 2, 3, 4, 5, 6, 7, 8, 9]\n",
      "[('banana', 2), ('carrot', 3), ('apple', 5)]\n",
      "[('apple', 5), ('banana', 2), ('carrot', 3)]\n"
     ]
    }
   ],
   "source": [
    "array = [7,5,9,0,3,1,6,2,4,8]\n",
    "\n",
    "sorted0 = sorted(array) # 정렬된 자료형을 '반환'한다.\n",
    "print(sorted0)\n",
    "\n",
    "array.sort() # '반환'하지 않고, 내부 원소가 바로 정렬된다.\n",
    "print(array)\n",
    "\n",
    "def setting0(data):\n",
    "    return data[0]\n",
    "\n",
    "def setting1(data):\n",
    "    return data[1]\n",
    "\n",
    "mdict = [('banana', 2), ('apple', 5), ('carrot', 3)]\n",
    "result = sorted(mdict, key=setting1)\n",
    "print(result)\n",
    "\n",
    "result = sorted(mdict, key=setting0)\n",
    "print(result)"
   ]
  },
  {
   "cell_type": "code",
   "execution_count": 1,
   "metadata": {},
   "outputs": [
    {
     "name": "stdout",
     "output_type": "stream",
     "text": [
      "[('banana', 2), ('carrot', 3), ('apple', 5)]\n"
     ]
    }
   ],
   "source": [
    "mdict = [('banana', 2), ('apple', 5), ('carrot', 3)]\n",
    "result = sorted(mdict, key= lambda mydict : mydict[1])\n",
    "print(result)"
   ]
  },
  {
   "cell_type": "code",
   "execution_count": null,
   "metadata": {},
   "outputs": [],
   "source": []
  }
 ],
 "metadata": {
  "kernelspec": {
   "display_name": "Python 3.6.8 64-bit",
   "language": "python",
   "name": "python3"
  },
  "language_info": {
   "codemirror_mode": {
    "name": "ipython",
    "version": 3
   },
   "file_extension": ".py",
   "mimetype": "text/x-python",
   "name": "python",
   "nbconvert_exporter": "python",
   "pygments_lexer": "ipython3",
   "version": "3.6.8"
  },
  "orig_nbformat": 4,
  "vscode": {
   "interpreter": {
    "hash": "e4155384af5840d15d68e8597407fad2e99d1893f7ce8c3788bc9723b5f2c767"
   }
  }
 },
 "nbformat": 4,
 "nbformat_minor": 2
}
